{
 "cells": [
  {
   "cell_type": "code",
   "execution_count": 1,
   "metadata": {},
   "outputs": [],
   "source": [
    "import os\n",
    "import pandas as pd\n",
    "import numpy as np\n",
    "import torch\n",
    "from tqdm.auto import tqdm\n",
    "import math\n",
    "import librosa\n",
    "import soundfile as sf\n",
    "import random\n",
    "\n",
    "max_duration = 10.0\n",
    "min_duration = 0.5"
   ]
  },
  {
   "cell_type": "code",
   "execution_count": 2,
   "metadata": {},
   "outputs": [],
   "source": [
    "'''This Load audio with consistent sample rate,padding and convert stero to mono\n",
    "   here it would be called once for each audio file you can modify it like you want for multiple files'''\n",
    "\n",
    "def load_audio(file_path, sample_rate=22050, min_duration=10.0):\n",
    "\n",
    "    audio, sr = sf.read(file_path)\n",
    "    \n",
    "    # if its stero converts to mono\n",
    "    if len(audio.shape) > 1:\n",
    "        audio = np.mean(audio, axis=1)\n",
    "    \n",
    "    # this is to resample \n",
    "    if sr != sample_rate:\n",
    "        audio = librosa.resample(audio, orig_sr=sr, target_sr=sample_rate)\n",
    "    \n",
    "    min_samples = int(sample_rate * min_duration)\n",
    "    # padding audio by tiling if too short \n",
    "    if len(audio) < min_samples:\n",
    "        min_samples = int(sample_rate * min_duration)\n",
    "        repeats = (min_samples // len(audio)) + 1\n",
    "        audio = np.tile(audio, repeats)[:min_samples]\n",
    "    return audio.astype('float32') # choose this coz 32-bit floating point format Compatible with libraries like PyTorch, Librosa, and your model\n",
    "\n",
    "class MelSpectrogramConverter:\n",
    "\n",
    "    #to convert Converts audio to Mel-spectrograms \n",
    "\n",
    "    def __init__(self, sample_rate=22050, n_mels=128, n_fft=2048, hop_length=209):\n",
    "        self.sample_rate = sample_rate\n",
    "        self.n_mels = n_mels\n",
    "        self.n_fft = n_fft\n",
    "        self.hop_length = hop_length\n",
    "        self.mel_basis = librosa.filters.mel(\n",
    "            sr=sample_rate,\n",
    "            n_fft=n_fft,\n",
    "            n_mels=n_mels,\n",
    "            fmin=20,\n",
    "            fmax=sample_rate//2\n",
    "        )\n",
    "    \n",
    "    def __call__(self, audio):\n",
    "        stft = librosa.stft(\n",
    "            audio, \n",
    "            n_fft=self.n_fft,\n",
    "            hop_length=self.hop_length,\n",
    "            win_length=self.n_fft\n",
    "        )\n",
    "    \n",
    "        mel_spec = np.dot(self.mel_basis, np.abs(stft)**2)\n",
    "        mel_spec_db = librosa.power_to_db(mel_spec, ref=np.max)\n",
    "        \n",
    "        if np.max(mel_spec_db) == np.min(mel_spec_db):\n",
    "            mel_spec_db = np.full_like(mel_spec_db, 0.0)\n",
    "        else:\n",
    "            mel_spec_db = (mel_spec_db - np.min(mel_spec_db)) / (np.max(mel_spec_db) - np.min(mel_spec_db))\n",
    "        return torch.from_numpy(mel_spec_db).float()\n",
    "    \n",
    "melspectrogram = MelSpectrogramConverter()"
   ]
  },
  {
   "cell_type": "code",
   "execution_count": 3,
   "metadata": {},
   "outputs": [],
   "source": [
    "datasetPath = \"C:/Users/aniru/Desktop/projects/AudioVision/FSD50K/\"\n",
    "\n",
    "vocab_df = pd.read_csv(datasetPath + 'FSD50K.ground_truth/vocabulary.csv', header=None)\n",
    "vocab_df.columns = ['index', 'label', 'mid']\n",
    "\n",
    "vocab_mid = vocab_df['mid'].tolist()\n",
    "vocab_normal = vocab_df['label'].tolist()\n",
    "mid_to_index = {row['mid']: row['index'] for _, row in vocab_df.iterrows()}\n",
    "\n",
    "dev_df = pd.read_csv(datasetPath + 'FSD50K.ground_truth/dev.csv')\n",
    "\n",
    "num_classes = len(vocab_mid)"
   ]
  },
  {
   "cell_type": "code",
   "execution_count": 4,
   "metadata": {},
   "outputs": [
    {
     "data": {
      "application/vnd.jupyter.widget-view+json": {
       "model_id": "a489ef9e3391423bbda315e2c72b320c",
       "version_major": 2,
       "version_minor": 0
      },
      "text/plain": [
       "0it [00:00, ?it/s]"
      ]
     },
     "metadata": {},
     "output_type": "display_data"
    },
    {
     "name": "stdout",
     "output_type": "stream",
     "text": [
      "Number of labels: 200\n",
      "Number of training samples: 5000\n"
     ]
    }
   ],
   "source": [
    "train_data_paths = []\n",
    "train_data_labels = []\n",
    "\n",
    "num_labels = vocab_df.shape[0]\n",
    "num_samples = 10\n",
    "\n",
    "count = 0\n",
    "\n",
    "for _, row in tqdm(dev_df.iterrows()):\n",
    "    file_path = os.path.normpath(os.path.join(datasetPath, 'FSD50K.dev_audio', str(row['fname']) + '.wav'))\n",
    "\n",
    "    if (row['split'] != 'train') or not os.path.exists(file_path):\n",
    "        continue\n",
    "    \n",
    "    with sf.SoundFile(file_path) as f:\n",
    "      duration_sec = len(f) / f.samplerate\n",
    "      if (duration_sec > max_duration or duration_sec < min_duration):\n",
    "         continue\n",
    "        \n",
    "    if (count >= 5000):\n",
    "       break\n",
    "\n",
    "    labels = row['mids'].split(',')\n",
    "    label_indices = [mid_to_index[label] for label in labels if label in mid_to_index]\n",
    "    label = torch.zeros(num_classes, dtype=torch.float32)\n",
    "    label[label_indices] = 1\n",
    "    \n",
    "    train_data_paths.append(file_path)\n",
    "    train_data_labels.append(label)\n",
    "    count += 1\n",
    "\n",
    "# train_data_paths remains a list of strings (file paths)\n",
    "train_data_labels = torch.stack(train_data_labels)\n",
    "\n",
    "print(f\"Number of labels: {num_labels}\")\n",
    "print(f\"Number of training samples: {len(train_data_paths)}\")"
   ]
  },
  {
   "cell_type": "code",
   "execution_count": 5,
   "metadata": {},
   "outputs": [
    {
     "name": "stdout",
     "output_type": "stream",
     "text": [
      "5000\n"
     ]
    }
   ],
   "source": [
    "max_images = 5000\n",
    "shard_size = 500\n",
    "n_processed_examples = 0\n",
    "n_processed_shards = 0\n",
    "rel_idxs = []\n",
    "max_images = min(max_images, len(train_data_paths))\n",
    "num_shards = (max_images + shard_size - 1) // shard_size\n",
    "pad_size = math.log10(num_shards) + 1\n",
    "\n",
    "\n",
    "print(max_images)"
   ]
  },
  {
   "cell_type": "code",
   "execution_count": 6,
   "metadata": {},
   "outputs": [],
   "source": [
    "selected_indices = random.sample(range(len(train_data_paths)), max_images)\n",
    "train_data_paths = [train_data_paths[i] for i in selected_indices]\n",
    "train_data_labels = train_data_labels[selected_indices]"
   ]
  },
  {
   "cell_type": "code",
   "execution_count": 7,
   "metadata": {},
   "outputs": [],
   "source": [
    "# Given a shard, it returns 2 tensors, one for image and another for the label vector which it also creates \n",
    "def process_files(shard_data_paths, shard_data_labels):\n",
    "  img_tensor = []\n",
    "  lbls_tensor = []\n",
    "  \n",
    "  for i in range(len(shard_data_paths)):\n",
    "    audio = load_audio(shard_data_paths[i])\n",
    "    mel_spec = melspectrogram(audio)\n",
    "    img_tensor.append(mel_spec)\n",
    "    lbls_tensor.append(shard_data_labels[i])\n",
    "\n",
    "  img_tensor = torch.stack(img_tensor)\n",
    "  lbls_tensor = torch.stack(lbls_tensor)\n",
    "\n",
    "  class_idxs = [torch.where(lbls_tensor[:, c] == 1)[0] for c in range(num_classes)]\n",
    "  \n",
    "  return img_tensor, lbls_tensor, class_idxs"
   ]
  },
  {
   "cell_type": "code",
   "execution_count": 8,
   "metadata": {},
   "outputs": [],
   "source": [
    "def pad_num(n, width):\n",
    "  return str(n).zfill(width)"
   ]
  },
  {
   "cell_type": "code",
   "execution_count": 9,
   "metadata": {},
   "outputs": [],
   "source": [
    "def save_chunk(imgs, lbls, idx):\n",
    "  shard_data = {\"imgs\": imgs, \"lbls\": lbls}\n",
    "  padded_num = pad_num(idx, int(pad_size))\n",
    "  torch.save(shard_data, os.path.join(\".\", \"data\", \"new_processed\", f\"fsd_{padded_num}.pth\"))"
   ]
  },
  {
   "cell_type": "code",
   "execution_count": 10,
   "metadata": {},
   "outputs": [
    {
     "name": "stdout",
     "output_type": "stream",
     "text": [
      "Processing 5000 files\n"
     ]
    },
    {
     "data": {
      "application/vnd.jupyter.widget-view+json": {
       "model_id": "f6168d4f35924d0a9e9c7487db67331f",
       "version_major": 2,
       "version_minor": 0
      },
      "text/plain": [
       "Processing chunks:   0%|          | 0/10 [00:00<?, ?it/s]"
      ]
     },
     "metadata": {},
     "output_type": "display_data"
    }
   ],
   "source": [
    "acc_shard_class_idxs = []\n",
    "class_idxs = []\n",
    "\n",
    "print(f\"Processing {max_images} files\")\n",
    "for shard_idx in tqdm(range(0, max_images, shard_size), desc=\"Processing chunks\"):\n",
    "  shard_data_paths = train_data_paths[shard_idx: min(shard_idx + shard_size, max_images)]\n",
    "  shard_data_labels = train_data_labels[shard_idx: min(shard_idx + shard_size, max_images)]\n",
    "  imgs, lbls, shard_class_idxs = process_files(shard_data_paths, shard_data_labels)\n",
    "  save_chunk(imgs, lbls, n_processed_shards)\n",
    "  acc_shard_class_idxs.append(shard_class_idxs) # store a list of precalculated indices which are part of each class\n",
    "  \n",
    "  n_processed_shards += 1 # for shard naming scheme\n",
    "  \n",
    "  n_processed_examples += len(imgs) # update total examples for tracking in rel_idxs\n",
    "  rel_idxs.append(n_processed_examples - 1)  # store index of the latest example of this chunk so we can identify which chunk an index is from\n",
    "  \n",
    "class_idxs = [torch.cat(shard_class_idxs) for shard_class_idxs in zip(*acc_shard_class_idxs)]\n",
    "torch.save({\n",
    "  'rel_idxs': rel_idxs,\n",
    "  'class_idxs': class_idxs\n",
    "}, os.path.join(\".\", \"data\", \"new_processed\", f\"fsd_meta.pth\"))"
   ]
  },
  {
   "cell_type": "markdown",
   "metadata": {},
   "source": [
    "Rough testing code"
   ]
  },
  {
   "cell_type": "code",
   "execution_count": 11,
   "metadata": {},
   "outputs": [
    {
     "name": "stderr",
     "output_type": "stream",
     "text": [
      "C:\\Users\\aniru\\AppData\\Local\\Temp\\ipykernel_33492\\3209812261.py:1: FutureWarning: You are using `torch.load` with `weights_only=False` (the current default value), which uses the default pickle module implicitly. It is possible to construct malicious pickle data which will execute arbitrary code during unpickling (See https://github.com/pytorch/pytorch/blob/main/SECURITY.md#untrusted-models for more details). In a future release, the default value for `weights_only` will be flipped to `True`. This limits the functions that could be executed during unpickling. Arbitrary objects will no longer be allowed to be loaded via this mode unless they are explicitly allowlisted by the user via `torch.serialization.add_safe_globals`. We recommend you start setting `weights_only=True` for any use case where you don't have full control of the loaded file. Please open an issue on GitHub for any issues related to this experimental feature.\n",
      "  test_data = torch.load(os.path.join(\".\", \"data\", \"new_processed\", f\"fsd_00.pth\"))\n"
     ]
    }
   ],
   "source": [
    "test_data = torch.load(os.path.join(\".\", \"data\", \"new_processed\", f\"fsd_00.pth\"))"
   ]
  },
  {
   "cell_type": "code",
   "execution_count": 14,
   "metadata": {},
   "outputs": [
    {
     "name": "stdout",
     "output_type": "stream",
     "text": [
      "torch.Size([128, 1056])\n"
     ]
    }
   ],
   "source": [
    "print(test_data['imgs'][0].shape)\n",
    "img_np = test_data['imgs'][0].unsqueeze(0).permute(1, 2, 0).numpy()"
   ]
  },
  {
   "cell_type": "code",
   "execution_count": 15,
   "metadata": {},
   "outputs": [
    {
     "data": {
      "image/png": "[encoded data removed]",
      "text/plain": [
       "<Figure size 640x480 with 1 Axes>"
      ]
     },
     "metadata": {},
     "output_type": "display_data"
    }
   ],
   "source": [
    "import matplotlib.pyplot as plt\n",
    "\n",
    "# Display\n",
    "plt.imshow(img_np)\n",
    "plt.axis('off')\n",
    "plt.show()"
   ]
  }
 ],
 "metadata": {
  "kernelspec": {
   "display_name": "pytorch-env",
   "language": "python",
   "name": "python3"
  },
  "language_info": {
   "codemirror_mode": {
    "name": "ipython",
    "version": 3
   },
   "file_extension": ".py",
   "mimetype": "text/x-python",
   "name": "python",
   "nbconvert_exporter": "python",
   "pygments_lexer": "ipython3",
   "version": "3.12.8"
  }
 },
 "nbformat": 4,
 "nbformat_minor": 2
}
